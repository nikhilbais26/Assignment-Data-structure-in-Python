{
  "cells": [
    {
      "cell_type": "markdown",
      "metadata": {
        "id": "2UfVYDPBM5NL"
      },
      "source": [
        "1. Write a code to reverse string.\n",
        "\n",
        "\n"
      ]
    },
    {
      "cell_type": "code",
      "execution_count": null,
      "metadata": {
        "colab": {
          "base_uri": "https://localhost:8080/"
        },
        "id": "hHp2WgBHMvGf",
        "outputId": "e2bdf1b0-b0e3-4fca-d97d-c70edcdb59c4"
      },
      "outputs": [
        {
          "name": "stdout",
          "output_type": "stream",
          "text": [
            "Reversed String: lihkiN ,olleH\n"
          ]
        }
      ],
      "source": [
        "input_string = \"Hello, Nikhil\"\n",
        "reversed_string = reverse_string(input_string)\n",
        "print(\"Reversed String:\", reversed_string)\n"
      ]
    },
    {
      "cell_type": "markdown",
      "metadata": {
        "id": "9n5x-1ZhOeeQ"
      },
      "source": [
        "\n",
        "2.Write a code to count the number of vowels in a string"
      ]
    },
    {
      "cell_type": "code",
      "execution_count": null,
      "metadata": {
        "colab": {
          "base_uri": "https://localhost:8080/"
        },
        "id": "sDM97gafOk8o",
        "outputId": "43e7d41d-ddf9-4f7f-a921-4ef1d5a4cf25"
      },
      "outputs": [
        {
          "name": "stdout",
          "output_type": "stream",
          "text": [
            "The number of vowels in the string is: 4\n"
          ]
        }
      ],
      "source": [
        "def count_vowels(input_string):\n",
        "    vowels = 'aeiouAEIOU'  # Define vowels (both lowercase and uppercase)\n",
        "    count = 0\n",
        "\n",
        "    for char in input_string:\n",
        "        if char in vowels:\n",
        "            count += 1\n",
        "\n",
        "    return count\n",
        "\n",
        "# Example usage:\n",
        "test_string = \"Hello, Nikhil!\"\n",
        "vowel_count = count_vowels(test_string)\n",
        "\n",
        "print(f\"The number of vowels in the string is: {vowel_count}\")  # Output: 3\n"
      ]
    },
    {
      "cell_type": "markdown",
      "metadata": {
        "id": "odGyvqWmPcjm"
      },
      "source": [
        "3.Write a code to check if a given string is a palindrome or not"
      ]
    },
    {
      "cell_type": "code",
      "execution_count": null,
      "metadata": {
        "colab": {
          "base_uri": "https://localhost:8080/"
        },
        "id": "SVFu9xndPhal",
        "outputId": "e8f195a7-0dbf-493c-ee07-355148e4bcbc"
      },
      "outputs": [
        {
          "name": "stdout",
          "output_type": "stream",
          "text": [
            "\"A man a plan a canal Panama\" is a palindrome.\n"
          ]
        }
      ],
      "source": [
        "def is_palindrome(s):\n",
        "    # Remove spaces and convert the string to lowercase for uniform comparison\n",
        "    cleaned_string = ''.join(e for e in s if e.isalnum()).lower()\n",
        "    return cleaned_string == cleaned_string[::-1]\n",
        "\n",
        "# Example usage\n",
        "input_string = \"A man a plan a canal Panama\"\n",
        "if is_palindrome(input_string):\n",
        "    print(f'\"{input_string}\" is a palindrome.')\n",
        "else:\n",
        "    print(f'\"{input_string}\" is not a palindrome.')"
      ]
    },
    {
      "cell_type": "markdown",
      "metadata": {
        "id": "UooFs7VrPy_M"
      },
      "source": [
        "4.Write a code to check if two given strings are anagrams of each other."
      ]
    },
    {
      "cell_type": "code",
      "execution_count": null,
      "metadata": {
        "colab": {
          "base_uri": "https://localhost:8080/"
        },
        "id": "ecQQ_BrXP29k",
        "outputId": "5d3d0cb4-15e3-4e51-e764-26df3038d8cf"
      },
      "outputs": [
        {
          "name": "stdout",
          "output_type": "stream",
          "text": [
            "\"listen\" and \"silent\" are anagrams.\n"
          ]
        }
      ],
      "source": [
        "def are_anagrams(str1, str2):\n",
        "    # Remove spaces and convert both strings to lowercase\n",
        "    str1 = ''.join(str1.split()).lower()\n",
        "    str2 = ''.join(str2.split()).lower()\n",
        "\n",
        "    # Check if sorted versions of the strings are the same\n",
        "    return sorted(str1) == sorted(str2)\n",
        "\n",
        "# Example usage\n",
        "string1 = \"listen\"\n",
        "string2 = \"silent\"\n",
        "\n",
        "if are_anagrams(string1, string2):\n",
        "    print(f'\"{string1}\" and \"{string2}\" are anagrams.')\n",
        "else:\n",
        "    print(f'\"{string1}\" and \"{string2}\" are not anagrams.')"
      ]
    },
    {
      "cell_type": "markdown",
      "metadata": {
        "id": "wLwt34PbP-o7"
      },
      "source": [
        "5.Write a code to find all occurrences of a given substring within another string"
      ]
    },
    {
      "cell_type": "code",
      "execution_count": null,
      "metadata": {
        "colab": {
          "base_uri": "https://localhost:8080/"
        },
        "id": "dSj0uhi4QFQL",
        "outputId": "3d361439-73d7-4870-86a5-5cf38c21749a"
      },
      "outputs": [
        {
          "name": "stdout",
          "output_type": "stream",
          "text": [
            "Substring \"is\" found at positions: [2, 5, 28, 31]\n"
          ]
        }
      ],
      "source": [
        "def find_substring_occurrences(main_string, sub_string):\n",
        "    occurrences = []\n",
        "    start = 0\n",
        "    while True:\n",
        "        start = main_string.find(sub_string, start)\n",
        "        if start == -1:\n",
        "            break\n",
        "        occurrences.append(start)\n",
        "        start += len(sub_string)  # Move to the next possible start\n",
        "    return occurrences\n",
        "\n",
        "# Example usage\n",
        "main_string = \"This is a test string and this is another test.\"\n",
        "sub_string = \"is\"\n",
        "\n",
        "occurrences = find_substring_occurrences(main_string, sub_string)\n",
        "print(f'Substring \"{sub_string}\" found at positions: {occurrences}')\n"
      ]
    },
    {
      "cell_type": "markdown",
      "metadata": {
        "id": "Z4xgjR-iQP1q"
      },
      "source": [
        "6.Write a code to perform basic string compression using the counts of repeated characters."
      ]
    },
    {
      "cell_type": "code",
      "execution_count": null,
      "metadata": {
        "colab": {
          "base_uri": "https://localhost:8080/"
        },
        "id": "fhsQyTZBQTgC",
        "outputId": "3c22eb91-168d-4d7c-ac34-5c84843b22e3"
      },
      "outputs": [
        {
          "name": "stdout",
          "output_type": "stream",
          "text": [
            "Compressed String: a3b1c4a3\n"
          ]
        }
      ],
      "source": [
        "def compress_string(s):\n",
        "    compressed = []\n",
        "    count = 1\n",
        "\n",
        "    for i in range(1, len(s)):\n",
        "        if s[i] == s[i - 1]:\n",
        "            count += 1\n",
        "        else:\n",
        "            compressed.append(s[i - 1] + str(count))\n",
        "            count = 1\n",
        "\n",
        "    # Add the last group of characters\n",
        "    compressed.append(s[-1] + str(count))\n",
        "\n",
        "    # Join the list into a compressed string\n",
        "    compressed_string = ''.join(compressed)\n",
        "\n",
        "    # Return the original string if the compressed one is longer\n",
        "    return compressed_string if len(compressed_string) < len(s) else s\n",
        "\n",
        "# Example usage\n",
        "input_string = \"aaabccccaaa\"\n",
        "compressed = compress_string(input_string)\n",
        "print(\"Compressed String:\", compressed)"
      ]
    },
    {
      "cell_type": "markdown",
      "metadata": {
        "id": "5r9phMN-QcD5"
      },
      "source": [
        "7.Write a code to determine if a string has all unique characters."
      ]
    },
    {
      "cell_type": "code",
      "execution_count": null,
      "metadata": {
        "colab": {
          "base_uri": "https://localhost:8080/"
        },
        "id": "NYIrM4tOQgCq",
        "outputId": "74aeb4da-58e5-4288-ad1f-cff4b0462d18"
      },
      "outputs": [
        {
          "name": "stdout",
          "output_type": "stream",
          "text": [
            "\"abcdefg\" has all unique characters.\n"
          ]
        }
      ],
      "source": [
        "def has_unique_characters(s):\n",
        "    # Use a set to store unique characters\n",
        "    char_set = set()\n",
        "\n",
        "    for char in s:\n",
        "        if char in char_set:\n",
        "            return False  # Duplicate character found\n",
        "        char_set.add(char)\n",
        "\n",
        "    return True\n",
        "\n",
        "# Example usage\n",
        "input_string = \"abcdefg\"\n",
        "if has_unique_characters(input_string):\n",
        "    print(f'\"{input_string}\" has all unique characters.')\n",
        "else:\n",
        "    print(f'\"{input_string}\" does not have all unique characters.')"
      ]
    },
    {
      "cell_type": "markdown",
      "metadata": {
        "id": "kRYILGFJQq1Q"
      },
      "source": [
        "8.Write a code to convert a given string to uppercase or lowercase"
      ]
    },
    {
      "cell_type": "code",
      "execution_count": null,
      "metadata": {
        "colab": {
          "base_uri": "https://localhost:8080/"
        },
        "id": "GKwbPaJIQulg",
        "outputId": "908dd406-2bbb-4f82-960a-78b26881c434"
      },
      "outputs": [
        {
          "name": "stdout",
          "output_type": "stream",
          "text": [
            "Uppercase: HELLO, NIKHIL!\n",
            "Lowercase: hello, nikhil!\n"
          ]
        }
      ],
      "source": [
        "def convert_case(s, to_upper=True):\n",
        "    if to_upper:\n",
        "        return s.upper()\n",
        "    else:\n",
        "        return s.lower()\n",
        "\n",
        "# Example usage\n",
        "input_string = \"Hello, Nikhil!\"\n",
        "\n",
        "# Convert to uppercase\n",
        "upper_case_string = convert_case(input_string, to_upper=True)\n",
        "print(\"Uppercase:\", upper_case_string)\n",
        "\n",
        "# Convert to lowercase\n",
        "lower_case_string = convert_case(input_string, to_upper=False)\n",
        "print(\"Lowercase:\", lower_case_string)"
      ]
    },
    {
      "cell_type": "markdown",
      "metadata": {
        "id": "Uc4KSZrNQ-AY"
      },
      "source": [
        "9.Write a code to count the number of words in a string."
      ]
    },
    {
      "cell_type": "code",
      "execution_count": null,
      "metadata": {
        "colab": {
          "base_uri": "https://localhost:8080/"
        },
        "id": "8W545-DQRJIf",
        "outputId": "0f64e035-67d0-43c3-a412-6bfcb330d5b3"
      },
      "outputs": [
        {
          "name": "stdout",
          "output_type": "stream",
          "text": [
            "Number of words: 6\n"
          ]
        }
      ],
      "source": [
        "def count_words(s):\n",
        "    # Split the string by spaces and count the resulting words\n",
        "    words = s.split()\n",
        "    return len(words)\n",
        "\n",
        "# Example usage\n",
        "input_string = \"Hello, this is an example string!\"\n",
        "word_count = count_words(input_string)\n",
        "print(\"Number of words:\", word_count)\n"
      ]
    },
    {
      "cell_type": "markdown",
      "metadata": {
        "id": "KAcAMdMFRTXf"
      },
      "source": [
        "10.Write a code to concatenate two strings without using the + operator"
      ]
    },
    {
      "cell_type": "code",
      "execution_count": null,
      "metadata": {
        "colab": {
          "base_uri": "https://localhost:8080/"
        },
        "id": "QGV_Js7CRVxu",
        "outputId": "64cd9538-d3fc-49b9-da0e-0f20f542aeab"
      },
      "outputs": [
        {
          "name": "stdout",
          "output_type": "stream",
          "text": [
            "Concatenated String: Hello, Nikhil!\n"
          ]
        }
      ],
      "source": [
        "def concatenate_strings(str1, str2):\n",
        "    return \"{}{}\".format(str1, str2)\n",
        "\n",
        "# Example usage\n",
        "string1 = \"Hello, \"\n",
        "string2 = \"Nikhil!\"\n",
        "result = concatenate_strings(string1, string2)\n",
        "print(\"Concatenated String:\", result)\n"
      ]
    },
    {
      "cell_type": "markdown",
      "metadata": {
        "id": "DDCVbawDRepm"
      },
      "source": [
        "11.Write a code to remove all occurrences of a specific element from a list\n"
      ]
    },
    {
      "cell_type": "code",
      "execution_count": null,
      "metadata": {
        "colab": {
          "base_uri": "https://localhost:8080/"
        },
        "id": "S_CxmX6PRhKe",
        "outputId": "27881455-6106-4ec0-f6fd-724f83a5133a"
      },
      "outputs": [
        {
          "name": "stdout",
          "output_type": "stream",
          "text": [
            "Original List: [1, 2, 3, 4, 2, 5, 2]\n",
            "Updated List: [1, 3, 4, 5]\n"
          ]
        }
      ],
      "source": [
        "def remove_occurrences(lst, element):\n",
        "    return [item for item in lst if item != element]\n",
        "\n",
        "# Example usage\n",
        "original_list = [1, 2, 3, 4, 2, 5, 2]\n",
        "element_to_remove = 2\n",
        "updated_list = remove_occurrences(original_list, element_to_remove)\n",
        "\n",
        "print(\"Original List:\", original_list)\n",
        "print(\"Updated List:\", updated_list)\n"
      ]
    },
    {
      "cell_type": "markdown",
      "metadata": {
        "id": "1IoF3-8zRwHt"
      },
      "source": [
        "12.  Implement a code to find the second largest number in a given list of integers\n"
      ]
    },
    {
      "cell_type": "code",
      "execution_count": null,
      "metadata": {
        "colab": {
          "base_uri": "https://localhost:8080/"
        },
        "id": "fuhFBAMaSXUr",
        "outputId": "70d8c87e-fa33-44e2-ea53-9be226e85a3a"
      },
      "outputs": [
        {
          "name": "stdout",
          "output_type": "stream",
          "text": [
            "The second largest number is: 4\n"
          ]
        }
      ],
      "source": [
        "def second_largest(numbers):\n",
        "    if len(numbers) < 2:\n",
        "        return None  # Not enough elements for a second largest\n",
        "\n",
        "    first = second = float('-inf')  # Initialize to negative infinity\n",
        "\n",
        "    for number in numbers:\n",
        "        if number > first:\n",
        "            second = first  # Update second largest\n",
        "            first = number   # Update first largest\n",
        "        elif first > number > second:\n",
        "            second = number  # Update second largest if current number is between first and second\n",
        "\n",
        "    return second if second != float('-inf') else None  # Return None if no second largest found\n",
        "\n",
        "# Example usage:\n",
        "numbers_list = [3, 5, 1, 4, 2, 5]\n",
        "result = second_largest(numbers_list)\n",
        "\n",
        "if result is not None:\n",
        "    print(f\"The second largest number is: {result}\")\n",
        "else:\n",
        "    print(\"There is no second largest number.\")\n"
      ]
    },
    {
      "cell_type": "markdown",
      "metadata": {
        "id": "6FAjo_lmScjr"
      },
      "source": [
        "13.Create a code to count the occurrences of each element in a list and return a dictionary with elements as keys and their counts as values"
      ]
    },
    {
      "cell_type": "code",
      "execution_count": null,
      "metadata": {
        "colab": {
          "base_uri": "https://localhost:8080/"
        },
        "id": "bHMAZhXOSg3K",
        "outputId": "9caa2b66-54ae-4fe4-a5c0-a71f48f05803"
      },
      "outputs": [
        {
          "name": "stdout",
          "output_type": "stream",
          "text": [
            "{1: 2, 2: 2, 3: 1, 4: 3}\n"
          ]
        }
      ],
      "source": [
        "def count_occurrences(lst):\n",
        "    count_dict = {}\n",
        "    for element in lst:\n",
        "        if element in count_dict:\n",
        "            count_dict[element] += 1\n",
        "        else:\n",
        "            count_dict[element] = 1\n",
        "    return count_dict\n",
        "\n",
        "# Example usage:\n",
        "my_list = [1, 2, 2, 3, 1, 4, 4, 4]\n",
        "result = count_occurrences(my_list)\n",
        "print(result) # Output: {1: 2, 2: 2, 3: 1, 4: 3}\n",
        "\n"
      ]
    },
    {
      "cell_type": "markdown",
      "metadata": {
        "id": "QeVxjsX-SwD6"
      },
      "source": [
        "14.Write a code to reverse a list in-place without using any built-in reverse functions"
      ]
    },
    {
      "cell_type": "code",
      "execution_count": null,
      "metadata": {
        "colab": {
          "base_uri": "https://localhost:8080/"
        },
        "id": "xo_3dOYmS2wh",
        "outputId": "f1eb5598-de74-4b20-dd1c-e523c3cf078f"
      },
      "outputs": [
        {
          "name": "stdout",
          "output_type": "stream",
          "text": [
            "[5, 4, 3, 2, 1]\n"
          ]
        }
      ],
      "source": [
        "def reverse_list(lst):\n",
        "    left = 0\n",
        "    right = len(lst) - 1\n",
        "\n",
        "    while left < right:\n",
        "        # Swap elements\n",
        "        lst[left], lst[right] = lst[right], lst[left]\n",
        "        left += 1\n",
        "        right -= 1\n",
        "\n",
        "# Example usage:\n",
        "my_list = [1, 2, 3, 4, 5]\n",
        "reverse_list(my_list)\n",
        "print(my_list) # Output: [5, 4, 3, 2, 1]\n"
      ]
    },
    {
      "cell_type": "markdown",
      "metadata": {
        "id": "H4azA6YbTwbp"
      },
      "source": [
        "15. Implement a code to find and remove duplicates from a list while preserving the original order of element\n"
      ]
    },
    {
      "cell_type": "code",
      "execution_count": null,
      "metadata": {
        "colab": {
          "base_uri": "https://localhost:8080/"
        },
        "id": "fqzXsZ7nT7c4",
        "outputId": "02c5f72c-57f1-4370-a9e4-41897fdf263a"
      },
      "outputs": [
        {
          "name": "stdout",
          "output_type": "stream",
          "text": [
            "[1, 2, 3, 4, 5]\n"
          ]
        }
      ],
      "source": [
        "def remove_duplicates(original_list):\n",
        "    seen = set()\n",
        "    result = []\n",
        "    for item in original_list:\n",
        "        if item not in seen:\n",
        "            seen.add(item)\n",
        "            result.append(item)\n",
        "    return result\n",
        "\n",
        "# Example usage:\n",
        "my_list = [1, 2, 3, 2, 1, 4, 5, 3]\n",
        "cleaned_list = remove_duplicates(my_list)\n",
        "print(cleaned_list) # Output: [1, 2, 3, 4, 5]\n"
      ]
    },
    {
      "cell_type": "markdown",
      "metadata": {
        "id": "_2giS1X5UA_4"
      },
      "source": [
        "16.Create a code to check if a given list is sorted (either in ascending or descending order) or not\n"
      ]
    },
    {
      "cell_type": "code",
      "execution_count": null,
      "metadata": {
        "colab": {
          "base_uri": "https://localhost:8080/"
        },
        "id": "5IFAat2rUGLA",
        "outputId": "9a2dc34e-3c63-424a-a123-8ee16a7df333"
      },
      "outputs": [
        {
          "name": "stdout",
          "output_type": "stream",
          "text": [
            "True\n",
            "True\n",
            "False\n",
            "True\n"
          ]
        }
      ],
      "source": [
        "def is_sorted(lst):\n",
        "    if not lst: # An empty list is considered sorted\n",
        "        return True\n",
        "\n",
        "    ascending = all(lst[i] <= lst[i + 1] for i in range(len(lst) - 1))\n",
        "    descending = all(lst[i] >= lst[i + 1] for i in range(len(lst) - 1))\n",
        "\n",
        "    return ascending or descending\n",
        "\n",
        "# Example usage:\n",
        "print(is_sorted([1, 2, 3, 4, 5])) # Output: True (ascending)\n",
        "print(is_sorted([5, 4, 3, 2, 1])) # Output: True (descending)\n",
        "print(is_sorted([1, 3, 2, 4])) # Output: False (not sorted)\n",
        "print(is_sorted([])) # Output: True (empty list)\n"
      ]
    },
    {
      "cell_type": "markdown",
      "metadata": {
        "id": "n2VFXL8oUNx3"
      },
      "source": [
        "\n",
        "17.Write a code to merge two sorted lists into a single sorted list."
      ]
    },
    {
      "cell_type": "code",
      "execution_count": null,
      "metadata": {
        "colab": {
          "base_uri": "https://localhost:8080/"
        },
        "id": "v9xVeOAwUUxX",
        "outputId": "172c0430-07bb-48d2-a023-c5d9685d0766"
      },
      "outputs": [
        {
          "name": "stdout",
          "output_type": "stream",
          "text": [
            "[1, 2, 3, 4, 5, 6, 7, 8]\n"
          ]
        }
      ],
      "source": [
        "def merge_sorted_lists(list1, list2):\n",
        "    merged_list = []\n",
        "    i, j = 0, 0\n",
        "\n",
        "    while i < len(list1) and j < len(list2):\n",
        "        if list1[i] < list2[j]:\n",
        "            merged_list.append(list1[i])\n",
        "            i += 1\n",
        "        else:\n",
        "            merged_list.append(list2[j])\n",
        "            j += 1\n",
        "\n",
        "    # Add any remaining elements from list1\n",
        "    while i < len(list1):\n",
        "        merged_list.append(list1[i])\n",
        "        i += 1\n",
        "\n",
        "    # Add any remaining elements from list2\n",
        "    while j < len(list2):\n",
        "        merged_list.append(list2[j])\n",
        "        j += 1\n",
        "\n",
        "    return merged_list\n",
        "\n",
        "# Example usage:\n",
        "list1 = [1, 3, 5, 7]\n",
        "list2 = [2, 4, 6, 8]\n",
        "merged = merge_sorted_lists(list1, list2)\n",
        "print(merged) # Output: [1, 2, 3, 4, 5, 6, 7, 8]\n"
      ]
    },
    {
      "cell_type": "markdown",
      "metadata": {
        "id": "Cn6GHvZ1Vgss"
      },
      "source": [
        "18.Implement a code to find the intersection of two given lists\n"
      ]
    },
    {
      "cell_type": "code",
      "execution_count": null,
      "metadata": {
        "colab": {
          "base_uri": "https://localhost:8080/"
        },
        "id": "dm7C0jP0Vk7s",
        "outputId": "56ada440-7c40-4ca1-8cdb-e7e8b8bf7462"
      },
      "outputs": [
        {
          "name": "stdout",
          "output_type": "stream",
          "text": [
            "[4, 5]\n"
          ]
        }
      ],
      "source": [
        "def intersection(list1, list2):\n",
        "    # Convert the second list to a set for faster lookup\n",
        "    set2 = set(list2)\n",
        "    # Use a set comprehension to find common elements\n",
        "    return list(set(item for item in list1 if item in set2))\n",
        "\n",
        "# Example usage:\n",
        "list1 = [1, 2, 3, 4, 5]\n",
        "list2 = [4, 5, 6, 7, 8]\n",
        "common_elements = intersection(list1, list2)\n",
        "print(common_elements) # Output: [4, 5]\n"
      ]
    },
    {
      "cell_type": "markdown",
      "metadata": {
        "id": "mlQd3IRUVpwa"
      },
      "source": [
        "19.Create a code to find the union of two lists without duplicates"
      ]
    },
    {
      "cell_type": "code",
      "execution_count": null,
      "metadata": {
        "colab": {
          "base_uri": "https://localhost:8080/"
        },
        "id": "oLOU9D6hVsL7",
        "outputId": "9feda44a-0ea0-465a-9f54-111f4efa1b63"
      },
      "outputs": [
        {
          "name": "stdout",
          "output_type": "stream",
          "text": [
            "[1, 2, 3, 4, 5, 6, 7, 8]\n"
          ]
        }
      ],
      "source": [
        "def union(list1, list2):\n",
        "    # Create a set from both lists to eliminate duplicates\n",
        "    return list(set(list1) | set(list2))\n",
        "\n",
        "# Example usage:\n",
        "list1 = [1, 2, 3, 4, 5]\n",
        "list2 = [4, 5, 6, 7, 8]\n",
        "union_list = union(list1, list2)\n",
        "print(union_list) # Output: [1, 2, 3, 4, 5, 6, 7, 8]\n"
      ]
    },
    {
      "cell_type": "markdown",
      "metadata": {
        "id": "1SbLMfkJVzxB"
      },
      "source": [
        "20.Write a code to shuffle a given list randomly without using any built-in shuffle functions\n"
      ]
    },
    {
      "cell_type": "code",
      "execution_count": null,
      "metadata": {
        "colab": {
          "base_uri": "https://localhost:8080/"
        },
        "id": "BqlauPeeV2qC",
        "outputId": "6035ccb6-5a64-41bd-e034-b6f4da45244b"
      },
      "outputs": [
        {
          "name": "stdout",
          "output_type": "stream",
          "text": [
            "[1, 3, 4, 5, 2]\n"
          ]
        }
      ],
      "source": [
        " import random\n",
        "\n",
        "def shuffle_list(lst):\n",
        "    # Traverse the list in reverse order\n",
        "    for i in range(len(lst) - 1, 0, -1):\n",
        "        # Generate a random index from 0 to i\n",
        "        j = random.randint(0, i)\n",
        "        # Swap elements at indices i and j\n",
        "        lst[i], lst[j] = lst[j], lst[i]\n",
        "    return lst\n",
        "\n",
        "# Example usage:\n",
        "my_list = [1, 2, 3, 4, 5]\n",
        "shuffled_list = shuffle_list(my_list.copy()) # Use .copy() to keep the original list intact\n",
        "print(shuffled_list)\n"
      ]
    },
    {
      "cell_type": "markdown",
      "metadata": {
        "id": "FG5ybH2fWBW7"
      },
      "source": [
        "21.Write a code that takes two tuples as input and returns a new tuple containing elements that are common to both input tuples\n"
      ]
    },
    {
      "cell_type": "code",
      "execution_count": null,
      "metadata": {
        "colab": {
          "base_uri": "https://localhost:8080/"
        },
        "id": "pSkEGb87WIXh",
        "outputId": "87e4c1bf-ca12-4700-aed6-38dbaf3ceb4d"
      },
      "outputs": [
        {
          "name": "stdout",
          "output_type": "stream",
          "text": [
            "(3, 4)\n"
          ]
        }
      ],
      "source": [
        "def common_elements(tuple1, tuple2):\n",
        "    # Convert tu iples to sets and find the intersection\n",
        "    common_set = set(tuple1) & set(tuple2)\n",
        "    # Convert the result back to a tuple\n",
        "    return tuple(common_set)\n",
        "\n",
        "# Example usage:\n",
        "tuple1 = (1, 2, 3, 4)\n",
        "tuple2 = (3, 4, 5, 6)\n",
        "common_tuple = common_elements(tuple1, tuple2)\n",
        "print(common_tuple) # Output: (3, 4)\n"
      ]
    },
    {
      "cell_type": "markdown",
      "metadata": {
        "id": "U9IParCeMJgQ"
      },
      "source": [
        "22.\n",
        "Create a code that prompts the user to enter two sets of integers separated by commas. Then, print the\n",
        "intersection of these two sets"
      ]
    },
    {
      "cell_type": "markdown",
      "source": [
        "23.Write a code to concatenate two tuples. The function should take two tuples as input and return a new tuple containing elements from both input tuples."
      ],
      "metadata": {
        "id": "8qJRCeQc4Q4j"
      }
    },
    {
      "cell_type": "code",
      "source": [
        "def concatenate_tuples(tuple1, tuple2):\n",
        "    # Concatenate the two tuples\n",
        "    return tuple1 + tuple2\n",
        "\n",
        "# Example usage:\n",
        "tuple1 = (1, 2, 3)\n",
        "tuple2 = (4, 5, 6)\n",
        "result_tuple = concatenate_tuples(tuple1, tuple2)\n",
        "print(result_tuple) # Output: (1, 2, 3, 4, 5, 6)\n"
      ],
      "metadata": {
        "colab": {
          "base_uri": "https://localhost:8080/"
        },
        "id": "-_Wa3wEV4QQ_",
        "outputId": "62f75f91-a24a-4dd1-cf7b-1f8c571fd7ed"
      },
      "execution_count": 5,
      "outputs": [
        {
          "output_type": "stream",
          "name": "stdout",
          "text": [
            "(1, 2, 3, 4, 5, 6)\n"
          ]
        }
      ]
    },
    {
      "cell_type": "markdown",
      "source": [
        "24.Develop a code that prompts the user to input two sets of strings. Then, print the elements that are present in the first set but not in the second set\n"
      ],
      "metadata": {
        "id": "51J89pfj4mW9"
      }
    },
    {
      "cell_type": "markdown",
      "source": [
        "25.Create a code that takes a tuple and two integers as input. The function should return a new tuple\n",
        "containing elements from the original tuple within the specified range of indices\n"
      ],
      "metadata": {
        "id": "LolscyHG5CYw"
      }
    },
    {
      "cell_type": "code",
      "source": [
        "def slice_tuple(original_tuple, start, end):\n",
        "    # Return a new tuple with elements from the specified range of indices\n",
        "    return original_tuple[start:end]\n",
        "\n",
        "# Example usage:\n",
        "my_tuple = (10, 20, 30, 40, 50, 60)\n",
        "start_index = 1\n",
        "end_index = 4\n",
        "result_tuple = slice_tuple(my_tuple, start_index, end_index)\n",
        "print(result_tuple) # Output: (20, 30, 40)\n"
      ],
      "metadata": {
        "colab": {
          "base_uri": "https://localhost:8080/"
        },
        "id": "XyY-h0QS5IZR",
        "outputId": "cd424a10-a0e8-44ce-8a49-cb605c574dab"
      },
      "execution_count": 7,
      "outputs": [
        {
          "output_type": "stream",
          "name": "stdout",
          "text": [
            "(20, 30, 40)\n"
          ]
        }
      ]
    },
    {
      "cell_type": "markdown",
      "source": [
        "26.Write a code that prompts the user to input two sets of characters. Then, print the union of these two sets"
      ],
      "metadata": {
        "id": "sFOASZMW5M91"
      }
    },
    {
      "cell_type": "markdown",
      "source": [
        "27.Develop a code that takes a tuple of integers as input. The function should return the maximum and\n",
        "minimum values from the tuple using tuple unpacking\n"
      ],
      "metadata": {
        "id": "3KAHBTss5e8P"
      }
    },
    {
      "cell_type": "code",
      "source": [
        "def min_max_from_tuple(int_tuple):\n",
        "    # Use built-in functions to find min and max\n",
        "    minimum = min(int_tuple)\n",
        "    maximum = max(int_tuple)\n",
        "\n",
        "    # Return both values as a tuple\n",
        "    return minimum, maximum\n",
        "\n",
        "# Example usage:\n",
        "input_tuple = (10, 5, 8, 20, 3)\n",
        "min_value, max_value = min_max_from_tuple(input_tuple)\n",
        "\n",
        "print(f\"Minimum value: {min_value}\") # Output: Minimum value: 3\n",
        "print(f\"Maximum value: {max_value}\") # Output: Maximum value: 20\n"
      ],
      "metadata": {
        "colab": {
          "base_uri": "https://localhost:8080/"
        },
        "id": "N_jPQa-V5jWw",
        "outputId": "2a0922ac-25a8-44d0-eea8-631e4bb1806b"
      },
      "execution_count": 9,
      "outputs": [
        {
          "output_type": "stream",
          "name": "stdout",
          "text": [
            "Minimum value: 3\n",
            "Maximum value: 20\n"
          ]
        }
      ]
    },
    {
      "cell_type": "markdown",
      "source": [
        "28.Create a code that defines two sets of integers. Then, print the union, intersection, and difference of these\n",
        "two sets\n"
      ],
      "metadata": {
        "id": "QtM-b6_i5qVn"
      }
    },
    {
      "cell_type": "code",
      "source": [
        "# Define two sets of integers\n",
        "set1 = {1, 2, 3, 4, 5}\n",
        "set2 = {4, 5, 6, 7, 8}\n",
        "\n",
        "# Calculate the union, intersection, and difference\n",
        "union_set = set1 | set2\n",
        "intersection_set = set1 & set2\n",
        "difference_set = set1 - set2\n",
        "\n",
        "# Print the results\n",
        "print(\"Set 1:\", set1)\n",
        "print(\"Set 2:\", set2)\n",
        "print(\"Union of the two sets:\", union_set) # Elements in either set\n",
        "print(\"Intersection of the two sets:\", intersection_set) # Elements in both sets\n",
        "print(\"Difference (Set 1 - Set 2):\", difference_set) # Elements in Set 1 but not in Set 2\n"
      ],
      "metadata": {
        "colab": {
          "base_uri": "https://localhost:8080/"
        },
        "id": "WGGvK5dX6Bv6",
        "outputId": "880ecee1-c8b0-40cb-e57d-2fecdba1b71f"
      },
      "execution_count": 10,
      "outputs": [
        {
          "output_type": "stream",
          "name": "stdout",
          "text": [
            "Set 1: {1, 2, 3, 4, 5}\n",
            "Set 2: {4, 5, 6, 7, 8}\n",
            "Union of the two sets: {1, 2, 3, 4, 5, 6, 7, 8}\n",
            "Intersection of the two sets: {4, 5}\n",
            "Difference (Set 1 - Set 2): {1, 2, 3}\n"
          ]
        }
      ]
    },
    {
      "cell_type": "markdown",
      "source": [
        "29.Write a code that takes a tuple and an element as input. The function should return the count of\n",
        "occurrences of the given element in the tuple\n"
      ],
      "metadata": {
        "id": "-bScc8f36Izm"
      }
    },
    {
      "cell_type": "code",
      "source": [
        "def count_occurrences(input_tuple, element):\n",
        "    # Use the count method to find the occurrences of the element\n",
        "    return input_tuple.count(element)\n",
        "\n",
        "# Example usage:\n",
        "my_tuple = (1, 2, 3, 2, 4, 2, 5)\n",
        "element_to_count = 2\n",
        "occurrences = count_occurrences(my_tuple, element_to_count)\n",
        "\n",
        "print(f\"The element {element_to_count} occurs {occurrences} times in the tuple.\") # Output: 3\n"
      ],
      "metadata": {
        "colab": {
          "base_uri": "https://localhost:8080/"
        },
        "id": "Gj1A1qzE6MP1",
        "outputId": "b72d47f8-f59e-4fda-a34d-a72c3eb04efa"
      },
      "execution_count": 11,
      "outputs": [
        {
          "output_type": "stream",
          "name": "stdout",
          "text": [
            "The element 2 occurs 3 times in the tuple.\n"
          ]
        }
      ]
    },
    {
      "cell_type": "markdown",
      "source": [
        "30.Develop a code that prompts the user to input two sets of strings. Then, print the symmetric difference of\n",
        "these two sets\n"
      ],
      "metadata": {
        "id": "eGnk5rV66R3_"
      }
    },
    {
      "cell_type": "markdown",
      "source": [
        "31.Write a code that takes a list of words as input and returns a dictionary where the keys are unique words\n",
        "and the values are the frequencies of those words in the input list ?"
      ],
      "metadata": {
        "id": "GoH7Shnv6ZT-"
      }
    },
    {
      "cell_type": "code",
      "source": [
        "def word_frequencies(word_list):\n",
        "    frequency_dict = {}\n",
        "    for word in word_list:\n",
        "        # Convert to lower case for case-insensitive counting\n",
        "        word = word.lower()\n",
        "        if word in frequency_dict:\n",
        "            frequency_dict[word] += 1\n",
        "        else:\n",
        "            frequency_dict[word] = 1\n",
        "    return frequency_dict\n",
        "\n",
        "# Example usage:\n",
        "input_list = [\"apple\", \"banana\", \"apple\", \"orange\", \"banana\", \"apple\"]\n",
        "frequency_dict = word_frequencies(input_list)\n",
        "\n",
        "print(frequency_dict) # Output: {'apple': 3, 'banana': 2, 'orange': 1}\n"
      ],
      "metadata": {
        "colab": {
          "base_uri": "https://localhost:8080/"
        },
        "id": "4hpjSCPW6gQM",
        "outputId": "dd74e503-b77a-4177-f135-751a5440cece"
      },
      "execution_count": 13,
      "outputs": [
        {
          "output_type": "stream",
          "name": "stdout",
          "text": [
            "{'apple': 3, 'banana': 2, 'orange': 1}\n"
          ]
        }
      ]
    },
    {
      "cell_type": "markdown",
      "source": [
        "32.Write a code that takes two dictionaries as input and merges them into a single dictionary. If there are\n",
        "common keys, the values should be added together\n"
      ],
      "metadata": {
        "id": "kOmhcvNQ6maE"
      }
    },
    {
      "cell_type": "code",
      "source": [
        "def merge_dictionaries(dict1, dict2):\n",
        "    # Create a new dictionary to store the merged result\n",
        "    merged_dict = dict1.copy() # Start with a copy of the first dictionary\n",
        "\n",
        "    for key, value in dict2.items():\n",
        "        if key in merged_dict:\n",
        "            merged_dict[key] += value # Add values if the key exists\n",
        "        else:\n",
        "            merged_dict[key] = value # Otherwise, add the new key-value pair\n",
        "\n",
        "    return merged_dict\n",
        "\n",
        "# Example usage:\n",
        "dict1 = {'a': 1, 'b': 2, 'c': 3}\n",
        "dict2 = {'b': 3, 'c': 1, 'd': 4}\n",
        "merged_result = merge_dictionaries(dict1, dict2)\n",
        "\n",
        "print(merged_result) # Output: {'a': 1, 'b': 5, 'c': 4, 'd': 4}\n"
      ],
      "metadata": {
        "colab": {
          "base_uri": "https://localhost:8080/"
        },
        "id": "HfNNUwi26sBa",
        "outputId": "d092aa31-6488-44d3-95b7-ae143c5f1992"
      },
      "execution_count": 14,
      "outputs": [
        {
          "output_type": "stream",
          "name": "stdout",
          "text": [
            "{'a': 1, 'b': 5, 'c': 4, 'd': 4}\n"
          ]
        }
      ]
    },
    {
      "cell_type": "markdown",
      "source": [
        "33.Write a code to access a value in a nested dictionary. The function should take the dictionary and a list of\n",
        "keys as input, and return the corresponding value. If any of the keys do not exist in the dictionary, the\n",
        "function should return None\n"
      ],
      "metadata": {
        "id": "e_vgLfn_6wz8"
      }
    },
    {
      "cell_type": "code",
      "source": [
        "def access_nested_value(nested_dict, keys):\n",
        "    current_value = nested_dict\n",
        "    for key in keys:\n",
        "        if key in current_value:\n",
        "            current_value = current_value[key]\n",
        "        else:\n",
        "            return None # Return None if a key does not exist\n",
        "    return current_value\n",
        "\n",
        "# Example usage:\n",
        "nested_dict = {\n",
        "    'a': {\n",
        "        'b': {\n",
        "            'c': 42\n",
        "        }\n",
        "    },\n",
        "    'd': 100\n",
        "}\n",
        "\n",
        "# List of keys to access the value\n",
        "keys_to_access = ['a', 'b', 'c']\n",
        "value = access_nested_value(nested_dict, keys_to_access)\n",
        "\n",
        "print(value) # Output: 42\n",
        "\n",
        "# Trying with a non-existent key\n",
        "keys_to_access_invalid = ['a', 'x', 'c']\n",
        "value_invalid = access_nested_value(nested_dict, keys_to_access_invalid)\n",
        "\n",
        "print(value_invalid) # Output: None\n"
      ],
      "metadata": {
        "colab": {
          "base_uri": "https://localhost:8080/"
        },
        "id": "-Hg48DQl603u",
        "outputId": "741abf13-0c2a-4563-953a-45ec2a46bf10"
      },
      "execution_count": 15,
      "outputs": [
        {
          "output_type": "stream",
          "name": "stdout",
          "text": [
            "42\n",
            "None\n"
          ]
        }
      ]
    },
    {
      "cell_type": "markdown",
      "source": [
        "34.Write a code that takes a dictionary as input and returns a sorted version of it based on the values. You\n",
        "can choose whether to sort in ascending or descending order\n"
      ],
      "metadata": {
        "id": "8tgPyXn_68yz"
      }
    },
    {
      "cell_type": "code",
      "source": [
        "def sort_dictionary_by_values(input_dict, ascending=True):\n",
        "    # Sort the dictionary based on values\n",
        "    sorted_dict = dict(sorted(input_dict.items(), key=lambda item: item[1], reverse=not ascending))\n",
        "    return sorted_dict\n",
        "\n",
        "# Example usage:\n",
        "my_dict = {'a': 5, 'b': 2, 'c': 8, 'd': 3}\n",
        "\n",
        "# Sort in ascending order\n",
        "sorted_ascending = sort_dictionary_by_values(my_dict, ascending=True)\n",
        "print(\"Sorted in ascending order:\", sorted_ascending) # Output: {'b': 2, 'd': 3, 'a': 5, 'c': 8}\n",
        "\n",
        "# Sort in descending order\n",
        "sorted_descending = sort_dictionary_by_values(my_dict, ascending=False)\n",
        "print(\"Sorted in descending order:\", sorted_descending) # Output: {'c': 8, 'a': 5, 'd': 3, 'b': 2\n"
      ],
      "metadata": {
        "colab": {
          "base_uri": "https://localhost:8080/"
        },
        "id": "Mtry-L3G7Dbp",
        "outputId": "a556f0d9-eaf9-43ad-ef3a-a8a8315beafa"
      },
      "execution_count": 16,
      "outputs": [
        {
          "output_type": "stream",
          "name": "stdout",
          "text": [
            "Sorted in ascending order: {'b': 2, 'd': 3, 'a': 5, 'c': 8}\n",
            "Sorted in descending order: {'c': 8, 'a': 5, 'd': 3, 'b': 2}\n"
          ]
        }
      ]
    },
    {
      "cell_type": "markdown",
      "source": [
        "35.Write a code that inverts a dictionary, swapping keys and values. Ensure that the inverted dictionary\n",
        "correctly handles cases where multiple keys have the same value by storing the keys as a list in the\n",
        "inverted dictionary.\n"
      ],
      "metadata": {
        "id": "n5Kz1KVo7IhY"
      }
    },
    {
      "cell_type": "code",
      "source": [
        "def invert_dict(original_dict):\n",
        "    inverted_dict = {}\n",
        "\n",
        "    for key, value in original_dict.items():\n",
        "        if value in inverted_dict:\n",
        "            # If the value is already a key in the inverted_dict, append the key to the list\n",
        "            inverted_dict[value].append(key)\n",
        "        else:\n",
        "            # Otherwise, create a new entry with the key as a list\n",
        "            inverted_dict[value] = [key]\n",
        "\n",
        "    return inverted_dict\n",
        "\n",
        "# Example usage\n",
        "original_dict = {\n",
        "    'a': 1,\n",
        "    'b': 2,\n",
        "    'c': 1,\n",
        "    'd': 3\n",
        "}\n",
        "\n",
        "inverted = invert_dict(original_dict)\n",
        "print(inverted)\n"
      ],
      "metadata": {
        "colab": {
          "base_uri": "https://localhost:8080/"
        },
        "id": "u23ICX_T7URe",
        "outputId": "b5e2fc7f-d16f-4d84-f0f9-79b5e3326404"
      },
      "execution_count": 18,
      "outputs": [
        {
          "output_type": "stream",
          "name": "stdout",
          "text": [
            "{1: ['a', 'c'], 2: ['b'], 3: ['d']}\n"
          ]
        }
      ]
    }
  ],
  "metadata": {
    "colab": {
      "provenance": []
    },
    "kernelspec": {
      "display_name": "Python 3",
      "name": "python3"
    },
    "language_info": {
      "name": "python"
    }
  },
  "nbformat": 4,
  "nbformat_minor": 0
}